{
 "cells": [
  {
   "cell_type": "code",
   "execution_count": 1,
   "id": "fabe0342",
   "metadata": {},
   "outputs": [
    {
     "name": "stderr",
     "output_type": "stream",
     "text": [
      "C:\\Users\\dunye\\anaconda3\\envs\\ml\\Lib\\site-packages\\tqdm\\auto.py:21: TqdmWarning: IProgress not found. Please update jupyter and ipywidgets. See https://ipywidgets.readthedocs.io/en/stable/user_install.html\n",
      "  from .autonotebook import tqdm as notebook_tqdm\n"
     ]
    }
   ],
   "source": [
    "from simpson_classifier.datasets import get_datasets\n",
    "from simpson_classifier.model import MyCnn\n",
    "from simpson_classifier.train import train"
   ]
  },
  {
   "cell_type": "code",
   "execution_count": 3,
   "id": "b41406a5",
   "metadata": {},
   "outputs": [
    {
     "name": "stdout",
     "output_type": "stream",
     "text": [
      "cuda:0\n"
     ]
    }
   ],
   "source": [
    "import torch\n",
    "\n",
    "DEVICE = torch.device('cuda:0' if torch.cuda.is_available() else 'cpu')\n",
    "\n",
    "print(DEVICE)"
   ]
  },
  {
   "cell_type": "code",
   "execution_count": 6,
   "id": "86b5cb98",
   "metadata": {},
   "outputs": [
    {
     "name": "stdout",
     "output_type": "stream",
     "text": [
      "Loading data\n",
      "\n"
     ]
    }
   ],
   "source": [
    "model = MyCnn().to(DEVICE)\n",
    "train_data, val_data, test_data = get_datasets(batch_size=128, balanced=False)"
   ]
  },
  {
   "cell_type": "code",
   "execution_count": 7,
   "id": "48e949a9",
   "metadata": {},
   "outputs": [
    {
     "name": "stderr",
     "output_type": "stream",
     "text": [
      "\u001b[34m\u001b[1mwandb\u001b[0m: Currently logged in as: \u001b[33mduny-explorer\u001b[0m. Use \u001b[1m`wandb login --relogin`\u001b[0m to force relogin\n"
     ]
    },
    {
     "data": {
      "text/html": [
       "wandb version 0.16.0 is available!  To upgrade, please run:\n",
       " $ pip install wandb --upgrade"
      ],
      "text/plain": [
       "<IPython.core.display.HTML object>"
      ]
     },
     "metadata": {},
     "output_type": "display_data"
    },
    {
     "data": {
      "text/html": [
       "Tracking run with wandb version 0.15.12"
      ],
      "text/plain": [
       "<IPython.core.display.HTML object>"
      ]
     },
     "metadata": {},
     "output_type": "display_data"
    },
    {
     "data": {
      "text/html": [
       "Run data is saved locally in <code>C:\\Users\\dunye\\3_HW\\emotion-classifier\\wandb\\run-20231116_002720-5te6m9jt</code>"
      ],
      "text/plain": [
       "<IPython.core.display.HTML object>"
      ]
     },
     "metadata": {},
     "output_type": "display_data"
    },
    {
     "data": {
      "text/html": [
       "Syncing run <strong><a href='https://wandb.ai/duny-explorer/simpsons-classifier/runs/5te6m9jt' target=\"_blank\">873ecf87-b384-43ed-a55f-abf7386cdcbb</a></strong> to <a href='https://wandb.ai/duny-explorer/simpsons-classifier' target=\"_blank\">Weights & Biases</a> (<a href='https://wandb.me/run' target=\"_blank\">docs</a>)<br/>"
      ],
      "text/plain": [
       "<IPython.core.display.HTML object>"
      ]
     },
     "metadata": {},
     "output_type": "display_data"
    },
    {
     "data": {
      "text/html": [
       " View project at <a href='https://wandb.ai/duny-explorer/simpsons-classifier' target=\"_blank\">https://wandb.ai/duny-explorer/simpsons-classifier</a>"
      ],
      "text/plain": [
       "<IPython.core.display.HTML object>"
      ]
     },
     "metadata": {},
     "output_type": "display_data"
    },
    {
     "data": {
      "text/html": [
       " View run at <a href='https://wandb.ai/duny-explorer/simpsons-classifier/runs/5te6m9jt' target=\"_blank\">https://wandb.ai/duny-explorer/simpsons-classifier/runs/5te6m9jt</a>"
      ],
      "text/plain": [
       "<IPython.core.display.HTML object>"
      ]
     },
     "metadata": {},
     "output_type": "display_data"
    },
    {
     "name": "stdout",
     "output_type": "stream",
     "text": [
      "Start model trainning \n",
      "\n"
     ]
    },
    {
     "name": "stderr",
     "output_type": "stream",
     "text": [
      "\r",
      "epoch:   0%|                                                                                    | 0/20 [00:00<?, ?it/s]"
     ]
    },
    {
     "name": "stdout",
     "output_type": "stream",
     "text": [
      "loss 2.1299941912905656\n"
     ]
    },
    {
     "name": "stderr",
     "output_type": "stream",
     "text": [
      "epoch:   5%|███▊                                                                       | 1/20 [01:57<37:03, 117.01s/it]"
     ]
    },
    {
     "name": "stdout",
     "output_type": "stream",
     "text": [
      "\n",
      "Epoch 001 train_loss: 2.1300     val_loss 1.4881 train_acc 0.4309 val_acc 0.5896\n",
      "loss 2.376019136937107\n"
     ]
    },
    {
     "name": "stderr",
     "output_type": "stream",
     "text": [
      "epoch:  10%|███████▌                                                                   | 2/20 [03:45<33:33, 111.87s/it]"
     ]
    },
    {
     "name": "stdout",
     "output_type": "stream",
     "text": [
      "\n",
      "Epoch 002 train_loss: 2.3760     val_loss 1.7355 train_acc 0.3447 val_acc 0.5310\n",
      "loss 1.3718054477967565\n"
     ]
    },
    {
     "name": "stderr",
     "output_type": "stream",
     "text": [
      "epoch:  15%|███████████▎                                                               | 3/20 [05:38<31:48, 112.29s/it]"
     ]
    },
    {
     "name": "stdout",
     "output_type": "stream",
     "text": [
      "\n",
      "Epoch 003 train_loss: 1.3718     val_loss 1.1149 train_acc 0.6122 val_acc 0.6863\n",
      "loss 1.0001050803310378\n"
     ]
    },
    {
     "name": "stderr",
     "output_type": "stream",
     "text": [
      "epoch:  20%|███████████████                                                            | 4/20 [07:27<29:40, 111.31s/it]"
     ]
    },
    {
     "name": "stdout",
     "output_type": "stream",
     "text": [
      "\n",
      "Epoch 004 train_loss: 1.0001     val_loss 0.9835 train_acc 0.7142 val_acc 0.7218\n",
      "loss 0.7267893499815963\n"
     ]
    },
    {
     "name": "stderr",
     "output_type": "stream",
     "text": [
      "epoch:  25%|██████████████████▊                                                        | 5/20 [09:20<27:54, 111.66s/it]"
     ]
    },
    {
     "name": "stdout",
     "output_type": "stream",
     "text": [
      "\n",
      "Epoch 005 train_loss: 0.7268     val_loss 0.8252 train_acc 0.7900 val_acc 0.7696\n",
      "loss 0.5565368255784355\n"
     ]
    },
    {
     "name": "stderr",
     "output_type": "stream",
     "text": [
      "epoch:  30%|██████████████████████▌                                                    | 6/20 [11:11<26:03, 111.67s/it]"
     ]
    },
    {
     "name": "stdout",
     "output_type": "stream",
     "text": [
      "\n",
      "Epoch 006 train_loss: 0.5565     val_loss 0.8059 train_acc 0.8355 val_acc 0.7843\n",
      "loss 0.4510438510400261\n"
     ]
    },
    {
     "name": "stderr",
     "output_type": "stream",
     "text": [
      "epoch:  35%|██████████████████████████▎                                                | 7/20 [13:13<24:52, 114.81s/it]"
     ]
    },
    {
     "name": "stdout",
     "output_type": "stream",
     "text": [
      "\n",
      "Epoch 007 train_loss: 0.4510     val_loss 0.7288 train_acc 0.8653 val_acc 0.8078\n",
      "loss 0.34064717891793533\n"
     ]
    },
    {
     "name": "stderr",
     "output_type": "stream",
     "text": [
      "epoch:  40%|██████████████████████████████                                             | 8/20 [15:10<23:08, 115.71s/it]"
     ]
    },
    {
     "name": "stdout",
     "output_type": "stream",
     "text": [
      "\n",
      "Epoch 008 train_loss: 0.3406     val_loss 0.7200 train_acc 0.8955 val_acc 0.8196\n",
      "loss 0.22647121588280872\n"
     ]
    },
    {
     "name": "stderr",
     "output_type": "stream",
     "text": [
      "epoch:  45%|█████████████████████████████████▊                                         | 9/20 [17:11<21:28, 117.15s/it]"
     ]
    },
    {
     "name": "stdout",
     "output_type": "stream",
     "text": [
      "\n",
      "Epoch 009 train_loss: 0.2265     val_loss 0.7773 train_acc 0.9301 val_acc 0.8166\n",
      "loss 0.21551997382038376\n"
     ]
    },
    {
     "name": "stderr",
     "output_type": "stream",
     "text": [
      "epoch:  50%|█████████████████████████████████████                                     | 10/20 [19:01<19:11, 115.15s/it]"
     ]
    },
    {
     "name": "stdout",
     "output_type": "stream",
     "text": [
      "\n",
      "Epoch 010 train_loss: 0.2155     val_loss 0.8250 train_acc 0.9341 val_acc 0.8217\n",
      "loss 0.17904536296504417\n"
     ]
    },
    {
     "name": "stderr",
     "output_type": "stream",
     "text": [
      "epoch:  55%|████████████████████████████████████████▋                                 | 11/20 [20:55<17:12, 114.74s/it]"
     ]
    },
    {
     "name": "stdout",
     "output_type": "stream",
     "text": [
      "\n",
      "Epoch 011 train_loss: 0.1790     val_loss 0.7647 train_acc 0.9457 val_acc 0.8305\n",
      "loss 0.13279820035442333\n"
     ]
    },
    {
     "name": "stderr",
     "output_type": "stream",
     "text": [
      "epoch:  60%|████████████████████████████████████████████▍                             | 12/20 [22:50<15:19, 114.91s/it]"
     ]
    },
    {
     "name": "stdout",
     "output_type": "stream",
     "text": [
      "\n",
      "Epoch 012 train_loss: 0.1328     val_loss 0.7810 train_acc 0.9586 val_acc 0.8263\n",
      "loss 0.1306835238557992\n"
     ]
    },
    {
     "name": "stderr",
     "output_type": "stream",
     "text": [
      "epoch:  65%|████████████████████████████████████████████████                          | 13/20 [24:39<13:10, 112.97s/it]"
     ]
    },
    {
     "name": "stdout",
     "output_type": "stream",
     "text": [
      "\n",
      "Epoch 013 train_loss: 0.1307     val_loss 0.7909 train_acc 0.9602 val_acc 0.8416\n",
      "loss 0.08649215652339891\n"
     ]
    },
    {
     "name": "stderr",
     "output_type": "stream",
     "text": [
      "epoch:  70%|███████████████████████████████████████████████████▊                      | 14/20 [26:27<11:08, 111.48s/it]"
     ]
    },
    {
     "name": "stdout",
     "output_type": "stream",
     "text": [
      "\n",
      "Epoch 014 train_loss: 0.0865     val_loss 0.7969 train_acc 0.9741 val_acc 0.8410\n",
      "loss 0.055748925993105235\n"
     ]
    },
    {
     "name": "stderr",
     "output_type": "stream",
     "text": [
      "epoch:  75%|███████████████████████████████████████████████████████▌                  | 15/20 [28:09<09:03, 108.78s/it]"
     ]
    },
    {
     "name": "stdout",
     "output_type": "stream",
     "text": [
      "\n",
      "Epoch 015 train_loss: 0.0557     val_loss 0.8498 train_acc 0.9832 val_acc 0.8399\n",
      "loss 0.07552381556217014\n"
     ]
    },
    {
     "name": "stderr",
     "output_type": "stream",
     "text": [
      "epoch:  80%|███████████████████████████████████████████████████████████▏              | 16/20 [29:52<07:07, 106.91s/it]"
     ]
    },
    {
     "name": "stdout",
     "output_type": "stream",
     "text": [
      "\n",
      "Epoch 016 train_loss: 0.0755     val_loss 0.8923 train_acc 0.9790 val_acc 0.8319\n",
      "loss 0.07643048127818787\n"
     ]
    },
    {
     "name": "stderr",
     "output_type": "stream",
     "text": [
      "epoch:  85%|██████████████████████████████████████████████████████████████▉           | 17/20 [31:33<05:15, 105.21s/it]"
     ]
    },
    {
     "name": "stdout",
     "output_type": "stream",
     "text": [
      "\n",
      "Epoch 017 train_loss: 0.0764     val_loss 0.8718 train_acc 0.9772 val_acc 0.8363\n",
      "loss 0.05635355736808064\n"
     ]
    },
    {
     "name": "stderr",
     "output_type": "stream",
     "text": [
      "epoch:  90%|██████████████████████████████████████████████████████████████████▌       | 18/20 [33:19<03:30, 105.36s/it]"
     ]
    },
    {
     "name": "stdout",
     "output_type": "stream",
     "text": [
      "\n",
      "Epoch 018 train_loss: 0.0564     val_loss 0.8208 train_acc 0.9825 val_acc 0.8558\n",
      "loss 0.05070989362834267\n"
     ]
    },
    {
     "name": "stderr",
     "output_type": "stream",
     "text": [
      "epoch:  95%|██████████████████████████████████████████████████████████████████████▎   | 19/20 [35:04<01:45, 105.36s/it]"
     ]
    },
    {
     "name": "stdout",
     "output_type": "stream",
     "text": [
      "\n",
      "Epoch 019 train_loss: 0.0507     val_loss 0.8749 train_acc 0.9848 val_acc 0.8420\n",
      "loss 0.03909104197402996\n"
     ]
    },
    {
     "name": "stderr",
     "output_type": "stream",
     "text": [
      "epoch: 100%|██████████████████████████████████████████████████████████████████████████| 20/20 [36:47<00:00, 110.38s/it]"
     ]
    },
    {
     "name": "stdout",
     "output_type": "stream",
     "text": [
      "\n",
      "Epoch 020 train_loss: 0.0391     val_loss 0.8465 train_acc 0.9878 val_acc 0.8508\n"
     ]
    },
    {
     "name": "stderr",
     "output_type": "stream",
     "text": [
      "\n"
     ]
    },
    {
     "data": {
      "text/html": [
       "Waiting for W&B process to finish... <strong style=\"color:green\">(success).</strong>"
      ],
      "text/plain": [
       "<IPython.core.display.HTML object>"
      ]
     },
     "metadata": {},
     "output_type": "display_data"
    },
    {
     "data": {
      "text/html": [
       "<style>\n",
       "    table.wandb td:nth-child(1) { padding: 0 10px; text-align: left ; width: auto;} td:nth-child(2) {text-align: left ; width: 100%}\n",
       "    .wandb-row { display: flex; flex-direction: row; flex-wrap: wrap; justify-content: flex-start; width: 100% }\n",
       "    .wandb-col { display: flex; flex-direction: column; flex-basis: 100%; flex: 1; padding: 10px; }\n",
       "    </style>\n",
       "<div class=\"wandb-row\"><div class=\"wandb-col\"><h3>Run history:</h3><br/><table class=\"wandb\"><tr><td>train_acc</td><td>▂▁▄▅▆▆▇▇▇▇██████████</td></tr><tr><td>train_loss</td><td>▇█▅▄▃▃▂▂▂▂▁▁▁▁▁▁▁▁▁▁</td></tr><tr><td>val_acc</td><td>▂▁▄▅▆▆▇▇▇▇▇▇███▇████</td></tr><tr><td>val_loss</td><td>▆█▄▃▂▂▁▁▁▂▁▁▁▂▂▂▂▂▂▂</td></tr></table><br/></div><div class=\"wandb-col\"><h3>Run summary:</h3><br/><table class=\"wandb\"><tr><td>train_acc</td><td>0.98777</td></tr><tr><td>train_loss</td><td>0.03909</td></tr><tr><td>val_acc</td><td>0.85078</td></tr><tr><td>val_loss</td><td>0.84647</td></tr></table><br/></div></div>"
      ],
      "text/plain": [
       "<IPython.core.display.HTML object>"
      ]
     },
     "metadata": {},
     "output_type": "display_data"
    },
    {
     "data": {
      "text/html": [
       " View run <strong style=\"color:#cdcd00\">873ecf87-b384-43ed-a55f-abf7386cdcbb</strong> at: <a href='https://wandb.ai/duny-explorer/simpsons-classifier/runs/5te6m9jt' target=\"_blank\">https://wandb.ai/duny-explorer/simpsons-classifier/runs/5te6m9jt</a><br/> View job at <a href='https://wandb.ai/duny-explorer/simpsons-classifier/jobs/QXJ0aWZhY3RDb2xsZWN0aW9uOjExNjEyNDk5Ng==/version_details/v0' target=\"_blank\">https://wandb.ai/duny-explorer/simpsons-classifier/jobs/QXJ0aWZhY3RDb2xsZWN0aW9uOjExNjEyNDk5Ng==/version_details/v0</a><br/>Synced 5 W&B file(s), 0 media file(s), 2 artifact file(s) and 0 other file(s)"
      ],
      "text/plain": [
       "<IPython.core.display.HTML object>"
      ]
     },
     "metadata": {},
     "output_type": "display_data"
    },
    {
     "data": {
      "text/html": [
       "Find logs at: <code>.\\wandb\\run-20231116_002720-5te6m9jt\\logs</code>"
      ],
      "text/plain": [
       "<IPython.core.display.HTML object>"
      ]
     },
     "metadata": {},
     "output_type": "display_data"
    }
   ],
   "source": [
    "train(train_data, val_data, model, device=DEVICE)"
   ]
  },
  {
   "attachments": {
    "image.png": {
     "image/png": "[encoded data removed]"
    }
   },
   "cell_type": "markdown",
   "id": "20d373a2",
   "metadata": {},
   "source": [
    "![image.png](attachment:image.png)"
   ]
  },
  {
   "cell_type": "markdown",
   "id": "66a2596d",
   "metadata": {},
   "source": [
    "Теперь попробуем сбалансировать выборку, для увеличения оценки"
   ]
  },
  {
   "cell_type": "code",
   "execution_count": 8,
   "id": "5d5abc67",
   "metadata": {},
   "outputs": [
    {
     "name": "stdout",
     "output_type": "stream",
     "text": [
      "Loading data\n",
      "\n",
      "Start balancing dataset\n",
      "\n"
     ]
    },
    {
     "name": "stderr",
     "output_type": "stream",
     "text": [
      "100%|███████████████████████████████████████████████████████████████████████████| 15699/15699 [01:15<00:00, 207.39it/s]\n"
     ]
    }
   ],
   "source": [
    "train_data, val_data, test_data = get_datasets(batch_size=128, balanced=True)"
   ]
  },
  {
   "attachments": {
    "image.png": {
     "image/png": "[encoded data removed]"
    }
   },
   "cell_type": "markdown",
   "id": "235d32a2",
   "metadata": {},
   "source": [
    "![image.png](attachment:image.png)"
   ]
  },
  {
   "cell_type": "code",
   "execution_count": 9,
   "id": "b774d4ea",
   "metadata": {},
   "outputs": [
    {
     "data": {
      "text/html": [
       "wandb version 0.16.0 is available!  To upgrade, please run:\n",
       " $ pip install wandb --upgrade"
      ],
      "text/plain": [
       "<IPython.core.display.HTML object>"
      ]
     },
     "metadata": {},
     "output_type": "display_data"
    },
    {
     "data": {
      "text/html": [
       "Tracking run with wandb version 0.15.12"
      ],
      "text/plain": [
       "<IPython.core.display.HTML object>"
      ]
     },
     "metadata": {},
     "output_type": "display_data"
    },
    {
     "data": {
      "text/html": [
       "Run data is saved locally in <code>C:\\Users\\dunye\\3_HW\\emotion-classifier\\wandb\\run-20231116_011206-jpzo9pqu</code>"
      ],
      "text/plain": [
       "<IPython.core.display.HTML object>"
      ]
     },
     "metadata": {},
     "output_type": "display_data"
    },
    {
     "data": {
      "text/html": [
       "Syncing run <strong><a href='https://wandb.ai/duny-explorer/simpsons-classifier/runs/jpzo9pqu' target=\"_blank\">b10ec90b-89a8-4286-b6d1-9d6dbd74c24a</a></strong> to <a href='https://wandb.ai/duny-explorer/simpsons-classifier' target=\"_blank\">Weights & Biases</a> (<a href='https://wandb.me/run' target=\"_blank\">docs</a>)<br/>"
      ],
      "text/plain": [
       "<IPython.core.display.HTML object>"
      ]
     },
     "metadata": {},
     "output_type": "display_data"
    },
    {
     "data": {
      "text/html": [
       " View project at <a href='https://wandb.ai/duny-explorer/simpsons-classifier' target=\"_blank\">https://wandb.ai/duny-explorer/simpsons-classifier</a>"
      ],
      "text/plain": [
       "<IPython.core.display.HTML object>"
      ]
     },
     "metadata": {},
     "output_type": "display_data"
    },
    {
     "data": {
      "text/html": [
       " View run at <a href='https://wandb.ai/duny-explorer/simpsons-classifier/runs/jpzo9pqu' target=\"_blank\">https://wandb.ai/duny-explorer/simpsons-classifier/runs/jpzo9pqu</a>"
      ],
      "text/plain": [
       "<IPython.core.display.HTML object>"
      ]
     },
     "metadata": {},
     "output_type": "display_data"
    },
    {
     "name": "stdout",
     "output_type": "stream",
     "text": [
      "Start model trainning \n",
      "\n"
     ]
    },
    {
     "name": "stderr",
     "output_type": "stream",
     "text": [
      "\r",
      "epoch:   0%|                                                                                    | 0/20 [00:00<?, ?it/s]"
     ]
    },
    {
     "name": "stdout",
     "output_type": "stream",
     "text": [
      "loss 0.13547744372636905\n"
     ]
    },
    {
     "name": "stderr",
     "output_type": "stream",
     "text": [
      "epoch:   5%|███▋                                                                     | 1/20 [06:54<2:11:09, 414.18s/it]"
     ]
    },
    {
     "name": "stdout",
     "output_type": "stream",
     "text": [
      "\n",
      "Epoch 001 train_loss: 0.1355     val_loss 0.3266 train_acc 0.9663 val_acc 0.9167\n",
      "loss 0.07638410616458767\n"
     ]
    },
    {
     "name": "stderr",
     "output_type": "stream",
     "text": [
      "epoch:  10%|███████▎                                                                 | 2/20 [13:42<2:03:15, 410.86s/it]"
     ]
    },
    {
     "name": "stdout",
     "output_type": "stream",
     "text": [
      "\n",
      "Epoch 002 train_loss: 0.0764     val_loss 0.3602 train_acc 0.9797 val_acc 0.9119\n",
      "loss 0.05872074319940904\n"
     ]
    },
    {
     "name": "stderr",
     "output_type": "stream",
     "text": [
      "epoch:  15%|██████████▉                                                              | 3/20 [20:46<1:58:08, 416.97s/it]"
     ]
    },
    {
     "name": "stdout",
     "output_type": "stream",
     "text": [
      "\n",
      "Epoch 003 train_loss: 0.0587     val_loss 0.4070 train_acc 0.9838 val_acc 0.9033\n",
      "loss 0.04530151941390162\n"
     ]
    },
    {
     "name": "stderr",
     "output_type": "stream",
     "text": [
      "epoch:  20%|██████████████▌                                                          | 4/20 [27:21<1:48:51, 408.22s/it]"
     ]
    },
    {
     "name": "stdout",
     "output_type": "stream",
     "text": [
      "\n",
      "Epoch 004 train_loss: 0.0453     val_loss 0.5745 train_acc 0.9887 val_acc 0.8697\n",
      "loss 0.046923357072799744\n"
     ]
    },
    {
     "name": "stderr",
     "output_type": "stream",
     "text": [
      "epoch:  25%|██████████████████▎                                                      | 5/20 [33:53<1:40:32, 402.17s/it]"
     ]
    },
    {
     "name": "stdout",
     "output_type": "stream",
     "text": [
      "\n",
      "Epoch 005 train_loss: 0.0469     val_loss 0.4755 train_acc 0.9879 val_acc 0.8894\n",
      "loss 0.02250661535026383\n"
     ]
    },
    {
     "name": "stderr",
     "output_type": "stream",
     "text": [
      "epoch:  30%|█████████████████████▉                                                   | 6/20 [40:18<1:32:29, 396.37s/it]"
     ]
    },
    {
     "name": "stdout",
     "output_type": "stream",
     "text": [
      "\n",
      "Epoch 006 train_loss: 0.0225     val_loss 0.4078 train_acc 0.9938 val_acc 0.9131\n",
      "loss 0.007131304976031957\n"
     ]
    },
    {
     "name": "stderr",
     "output_type": "stream",
     "text": [
      "epoch:  35%|█████████████████████████▌                                               | 7/20 [46:41<1:24:56, 392.04s/it]"
     ]
    },
    {
     "name": "stdout",
     "output_type": "stream",
     "text": [
      "\n",
      "Epoch 007 train_loss: 0.0071     val_loss 0.3609 train_acc 0.9981 val_acc 0.9213\n",
      "loss 0.0017922119713899348\n"
     ]
    },
    {
     "name": "stderr",
     "output_type": "stream",
     "text": [
      "epoch:  40%|█████████████████████████████▏                                           | 8/20 [53:22<1:18:57, 394.80s/it]"
     ]
    },
    {
     "name": "stdout",
     "output_type": "stream",
     "text": [
      "\n",
      "Epoch 008 train_loss: 0.0018     val_loss 0.3696 train_acc 0.9995 val_acc 0.9266\n",
      "loss 0.00043423430698566115\n"
     ]
    },
    {
     "name": "stderr",
     "output_type": "stream",
     "text": [
      "epoch:  45%|████████████████████████████████▊                                        | 9/20 [59:14<1:09:55, 381.44s/it]"
     ]
    },
    {
     "name": "stdout",
     "output_type": "stream",
     "text": [
      "\n",
      "Epoch 009 train_loss: 0.0004     val_loss 0.3521 train_acc 0.9998 val_acc 0.9297\n",
      "loss 0.000252625283947469\n"
     ]
    },
    {
     "name": "stderr",
     "output_type": "stream",
     "text": [
      "epoch:  50%|███████████████████████████████████                                   | 10/20 [1:05:45<1:04:04, 384.44s/it]"
     ]
    },
    {
     "name": "stdout",
     "output_type": "stream",
     "text": [
      "\n",
      "Epoch 010 train_loss: 0.0003     val_loss 0.3459 train_acc 0.9999 val_acc 0.9310\n",
      "loss 0.0003281894024015743\n"
     ]
    },
    {
     "name": "stderr",
     "output_type": "stream",
     "text": [
      "epoch:  55%|███████████████████████████████████████▌                                | 11/20 [1:11:53<56:56, 379.59s/it]"
     ]
    },
    {
     "name": "stdout",
     "output_type": "stream",
     "text": [
      "\n",
      "Epoch 011 train_loss: 0.0003     val_loss 0.3581 train_acc 0.9998 val_acc 0.9312\n",
      "loss 0.0012570679489018314\n"
     ]
    },
    {
     "name": "stderr",
     "output_type": "stream",
     "text": [
      "epoch:  60%|███████████████████████████████████████████▏                            | 12/20 [1:18:28<51:13, 384.15s/it]"
     ]
    },
    {
     "name": "stdout",
     "output_type": "stream",
     "text": [
      "\n",
      "Epoch 012 train_loss: 0.0013     val_loss 0.3796 train_acc 0.9997 val_acc 0.9253\n",
      "loss 0.0020962309465710808\n"
     ]
    },
    {
     "name": "stderr",
     "output_type": "stream",
     "text": [
      "epoch:  65%|██████████████████████████████████████████████▊                         | 13/20 [1:24:32<44:06, 378.01s/it]"
     ]
    },
    {
     "name": "stdout",
     "output_type": "stream",
     "text": [
      "\n",
      "Epoch 013 train_loss: 0.0021     val_loss 0.4151 train_acc 0.9994 val_acc 0.9173\n",
      "loss 0.0008192987431650819\n"
     ]
    },
    {
     "name": "stderr",
     "output_type": "stream",
     "text": [
      "epoch:  70%|██████████████████████████████████████████████████▍                     | 14/20 [1:30:25<37:02, 370.44s/it]"
     ]
    },
    {
     "name": "stdout",
     "output_type": "stream",
     "text": [
      "\n",
      "Epoch 014 train_loss: 0.0008     val_loss 0.3663 train_acc 0.9998 val_acc 0.9310\n",
      "loss 0.0009989344145754223\n"
     ]
    },
    {
     "name": "stderr",
     "output_type": "stream",
     "text": [
      "epoch:  75%|██████████████████████████████████████████████████████                  | 15/20 [1:36:20<30:28, 365.72s/it]"
     ]
    },
    {
     "name": "stdout",
     "output_type": "stream",
     "text": [
      "\n",
      "Epoch 015 train_loss: 0.0010     val_loss 0.3525 train_acc 0.9997 val_acc 0.9278\n",
      "loss 0.00034496266577075963\n"
     ]
    },
    {
     "name": "stderr",
     "output_type": "stream",
     "text": [
      "epoch:  80%|█████████████████████████████████████████████████████████▌              | 16/20 [1:42:15<24:10, 362.59s/it]"
     ]
    },
    {
     "name": "stdout",
     "output_type": "stream",
     "text": [
      "\n",
      "Epoch 016 train_loss: 0.0003     val_loss 0.3464 train_acc 0.9999 val_acc 0.9305\n",
      "loss 0.00026966777329980236\n"
     ]
    },
    {
     "name": "stderr",
     "output_type": "stream",
     "text": [
      "epoch:  85%|█████████████████████████████████████████████████████████████▏          | 17/20 [1:48:11<18:01, 360.63s/it]"
     ]
    },
    {
     "name": "stdout",
     "output_type": "stream",
     "text": [
      "\n",
      "Epoch 017 train_loss: 0.0003     val_loss 0.3442 train_acc 0.9999 val_acc 0.9306\n",
      "loss 0.00015405094869207466\n"
     ]
    },
    {
     "name": "stderr",
     "output_type": "stream",
     "text": [
      "epoch:  90%|████████████████████████████████████████████████████████████████▊       | 18/20 [1:54:10<12:00, 360.02s/it]"
     ]
    },
    {
     "name": "stdout",
     "output_type": "stream",
     "text": [
      "\n",
      "Epoch 018 train_loss: 0.0002     val_loss 0.3426 train_acc 0.9999 val_acc 0.9318\n",
      "loss 0.00025840571341010087\n"
     ]
    },
    {
     "name": "stderr",
     "output_type": "stream",
     "text": [
      "epoch:  95%|████████████████████████████████████████████████████████████████████▍   | 19/20 [2:00:05<05:58, 358.69s/it]"
     ]
    },
    {
     "name": "stdout",
     "output_type": "stream",
     "text": [
      "\n",
      "Epoch 019 train_loss: 0.0003     val_loss 0.3388 train_acc 0.9999 val_acc 0.9314\n",
      "loss 0.0001462908309850935\n"
     ]
    },
    {
     "name": "stderr",
     "output_type": "stream",
     "text": [
      "epoch: 100%|████████████████████████████████████████████████████████████████████████| 20/20 [2:06:04<00:00, 378.23s/it]"
     ]
    },
    {
     "name": "stdout",
     "output_type": "stream",
     "text": [
      "\n",
      "Epoch 020 train_loss: 0.0001     val_loss 0.3352 train_acc 1.0000 val_acc 0.9326\n"
     ]
    },
    {
     "name": "stderr",
     "output_type": "stream",
     "text": [
      "\n"
     ]
    },
    {
     "data": {
      "text/html": [
       "Waiting for W&B process to finish... <strong style=\"color:green\">(success).</strong>"
      ],
      "text/plain": [
       "<IPython.core.display.HTML object>"
      ]
     },
     "metadata": {},
     "output_type": "display_data"
    },
    {
     "data": {
      "text/html": [
       "<style>\n",
       "    table.wandb td:nth-child(1) { padding: 0 10px; text-align: left ; width: auto;} td:nth-child(2) {text-align: left ; width: 100%}\n",
       "    .wandb-row { display: flex; flex-direction: row; flex-wrap: wrap; justify-content: flex-start; width: 100% }\n",
       "    .wandb-col { display: flex; flex-direction: column; flex-basis: 100%; flex: 1; padding: 10px; }\n",
       "    </style>\n",
       "<div class=\"wandb-row\"><div class=\"wandb-col\"><h3>Run history:</h3><br/><table class=\"wandb\"><tr><td>train_acc</td><td>▁▄▅▆▅▇██████████████</td></tr><tr><td>train_loss</td><td>█▅▄▃▃▂▁▁▁▁▁▁▁▁▁▁▁▁▁▁</td></tr><tr><td>val_acc</td><td>▆▆▅▁▃▆▇▇███▇▆█▇█████</td></tr><tr><td>val_loss</td><td>▁▂▃█▅▃▂▂▂▂▂▂▃▂▂▂▁▁▁▁</td></tr></table><br/></div><div class=\"wandb-col\"><h3>Run summary:</h3><br/><table class=\"wandb\"><tr><td>train_acc</td><td>0.99997</td></tr><tr><td>train_loss</td><td>0.00015</td></tr><tr><td>val_acc</td><td>0.93256</td></tr><tr><td>val_loss</td><td>0.33523</td></tr></table><br/></div></div>"
      ],
      "text/plain": [
       "<IPython.core.display.HTML object>"
      ]
     },
     "metadata": {},
     "output_type": "display_data"
    },
    {
     "data": {
      "text/html": [
       " View run <strong style=\"color:#cdcd00\">b10ec90b-89a8-4286-b6d1-9d6dbd74c24a</strong> at: <a href='https://wandb.ai/duny-explorer/simpsons-classifier/runs/jpzo9pqu' target=\"_blank\">https://wandb.ai/duny-explorer/simpsons-classifier/runs/jpzo9pqu</a><br/> View job at <a href='https://wandb.ai/duny-explorer/simpsons-classifier/jobs/QXJ0aWZhY3RDb2xsZWN0aW9uOjExNjEyNDk5Ng==/version_details/v0' target=\"_blank\">https://wandb.ai/duny-explorer/simpsons-classifier/jobs/QXJ0aWZhY3RDb2xsZWN0aW9uOjExNjEyNDk5Ng==/version_details/v0</a><br/>Synced 5 W&B file(s), 0 media file(s), 0 artifact file(s) and 0 other file(s)"
      ],
      "text/plain": [
       "<IPython.core.display.HTML object>"
      ]
     },
     "metadata": {},
     "output_type": "display_data"
    },
    {
     "data": {
      "text/html": [
       "Find logs at: <code>.\\wandb\\run-20231116_011206-jpzo9pqu\\logs</code>"
      ],
      "text/plain": [
       "<IPython.core.display.HTML object>"
      ]
     },
     "metadata": {},
     "output_type": "display_data"
    }
   ],
   "source": [
    "train(train_data, val_data, model, device=DEVICE)"
   ]
  },
  {
   "cell_type": "code",
   "execution_count": null,
   "id": "e1892e0a",
   "metadata": {},
   "outputs": [],
   "source": []
  }
 ],
 "metadata": {
  "kernelspec": {
   "display_name": "Python 3 (ipykernel)",
   "language": "python",
   "name": "python3"
  },
  "language_info": {
   "codemirror_mode": {
    "name": "ipython",
    "version": 3
   },
   "file_extension": ".py",
   "mimetype": "text/x-python",
   "name": "python",
   "nbconvert_exporter": "python",
   "pygments_lexer": "ipython3",
   "version": "3.11.5"
  }
 },
 "nbformat": 4,
 "nbformat_minor": 5
}
